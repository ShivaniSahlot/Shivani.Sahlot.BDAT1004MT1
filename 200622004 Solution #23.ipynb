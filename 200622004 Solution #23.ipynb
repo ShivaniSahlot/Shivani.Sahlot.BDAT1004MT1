{
 "cells": [
  {
   "attachments": {},
   "cell_type": "markdown",
   "id": "0fb4bf30-1b8e-43ed-8701-e63534fb41ca",
   "metadata": {},
   "source": [
    "Develop a recursive function tough() that takes two nonnegative integer arguments and outputs a pattern as shown below. Hint: The first argument represents the indentation of the pattern, where the second argument -- always a pattern of 2 indicates the number *s in the longest line of *s in the pattern"
   ]
  },
  {
   "cell_type": "code",
   "execution_count": 8,
   "id": "1fd5b02b-ef46-492e-ba79-13b8a91493d1",
   "metadata": {},
   "outputs": [
    {
     "name": "stdout",
     "output_type": "stream",
     "text": [
      ">>> f(0, 0)\n",
      "\n",
      ">>> f(0, 1)\n",
      "*\n",
      "\n",
      ">>> f(0, 2)\n",
      "*\n",
      "**\n",
      " *\n",
      "\n",
      ">>> f(0, 4)\n",
      "*\n",
      "**\n",
      " *\n",
      "****\n",
      "  *\n",
      "  **\n",
      "   *\n"
     ]
    }
   ],
   "source": [
    "def f(indent, num):\n",
    "    # Base case: if num is 0, do nothing\n",
    "    if num > 0:\n",
    "        # Recursive call to print the upper part of the pattern\n",
    "        f(indent, num // 2)\n",
    "        \n",
    "        # Print the current line with the appropriate indentation and number of stars\n",
    "        print(\" \" * indent + \"*\" * num)\n",
    "        \n",
    "        # Recursive call to print the lower part of the pattern with increased indentation\n",
    "        f(indent + num // 2, num // 2)\n",
    "\n",
    "# Testing the function with examples from the image\n",
    "\n",
    "# Test case when num is 0, no output is expected\n",
    "print(\">>> f(0, 0)\")\n",
    "f(0, 0)\n",
    "\n",
    "# Test case when num is 1, it prints a single line with 1 star\n",
    "print(\"\\n>>> f(0, 1)\")\n",
    "f(0, 1)\n",
    "\n",
    "# Test case when num is 2, it creates a pattern with 2 lines of stars and indentation\n",
    "print(\"\\n>>> f(0, 2)\")\n",
    "f(0, 2)\n",
    "\n",
    "# Test case when num is 4, it creates a larger pattern\n",
    "print(\"\\n>>> f(0, 4)\")\n",
    "f(0, 4)\n"
   ]
  }
 ],
 "metadata": {
  "kernelspec": {
   "display_name": "Python 3 (ipykernel)",
   "language": "python",
   "name": "python3"
  },
  "language_info": {
   "codemirror_mode": {
    "name": "ipython",
    "version": 3
   },
   "file_extension": ".py",
   "mimetype": "text/x-python",
   "name": "python",
   "nbconvert_exporter": "python",
   "pygments_lexer": "ipython3",
   "version": "3.12.4"
  }
 },
 "nbformat": 4,
 "nbformat_minor": 5
}
