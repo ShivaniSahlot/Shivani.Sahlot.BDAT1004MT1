{
 "cells": [
  {
   "cell_type": "markdown",
   "id": "e5a2c986-b91f-4ca8-ab90-a6c94ba22087",
   "metadata": {},
   "source": [
    "__int()__: Constructor that takes as input a pair of Point objects that represent the ends points of the line segment\r\n",
    "\r\n",
    "Length():: returns the length if the segment \r\n",
    "\r\n",
    "Slope() returns the slope of the segment of none if the slope is unbounded \r\n",
    "\r\n",
    " \r\n",
    "\r\n",
    ">>> p1 = Point(3,4)\r\n",
    "\r\n",
    ">>> p2 = Point()\r\n",
    "\r\n",
    ">>> s = Segment(p1,p2)\r\n",
    "\r\n",
    ">>> s.length()\r\n",
    "\r\n",
    "5.0\r\n",
    "\r\n",
    ">>> s.slope()\r\n",
    "\r\n",
    "0.75"
   ]
  },
  {
   "cell_type": "code",
   "execution_count": 7,
   "id": "1dadf8af-e7c2-46d1-bc38-6fc3f4efa9c2",
   "metadata": {},
   "outputs": [
    {
     "name": "stdout",
     "output_type": "stream",
     "text": [
      "5.0\n",
      "1.3333333333333333\n"
     ]
    }
   ],
   "source": [
    "import math  # Import the math module for mathematical functions\n",
    "\n",
    "class Point:\n",
    "    def __init__(this, x=0, y=0):\n",
    "        # Initialize a Point object with x and y coordinates\n",
    "        this.xCoordinate = x  # Set the x-coordinate\n",
    "        this.yCoordinate = y  # Set the y-coordinate\n",
    "\n",
    "class Segment:\n",
    "    def __init__(this, pointOne: Point, pointTwo: Point):\n",
    "        # Initialize a Segment object with two endpoints\n",
    "        this.pointOne = pointOne  # First endpoint of the segment\n",
    "        this.pointTwo = pointTwo   # Second endpoint of the segment\n",
    "\n",
    "    def length(this):\n",
    "        # Calculate and return the length of the segment\n",
    "        return math.sqrt((this.pointTwo.xCoordinate - this.pointOne.xCoordinate) ** 2 + \n",
    "                         (this.pointTwo.yCoordinate - this.pointOne.yCoordinate) ** 2)\n",
    "\n",
    "    def slope(this):\n",
    "        # Calculate and return the slope of the segment\n",
    "        if this.pointTwo.xCoordinate == this.pointOne.xCoordinate:  # Check for vertical line\n",
    "            return None  # Slope is undefined for vertical lines\n",
    "        return (this.pointTwo.yCoordinate - this.pointOne.yCoordinate) / (this.pointTwo.xCoordinate - this.pointOne.xCoordinate)\n",
    "\n",
    "# Example usage\n",
    "point1 = Point(3, 4)  # Create a Point object at (3, 4)\n",
    "point2 = Point(0, 0)  # Create a Point object at (0, 0)\n",
    "segment = Segment(point1, point2)  # Create a Segment object between point1 and point2\n",
    "\n",
    "# Print the length and slope of the segment\n",
    "print(segment.length())  # Output: 5.0 (length of the segment)\n",
    "print(segment.slope())   # Output: 0.75 (slope of the segment)"
   ]
  },
  {
   "cell_type": "code",
   "execution_count": null,
   "id": "4c9834e8-e6b3-45ca-9c53-29262902f208",
   "metadata": {},
   "outputs": [],
   "source": []
  }
 ],
 "metadata": {
  "kernelspec": {
   "display_name": "Python 3 (ipykernel)",
   "language": "python",
   "name": "python3"
  },
  "language_info": {
   "codemirror_mode": {
    "name": "ipython",
    "version": 3
   },
   "file_extension": ".py",
   "mimetype": "text/x-python",
   "name": "python",
   "nbconvert_exporter": "python",
   "pygments_lexer": "ipython3",
   "version": "3.12.4"
  }
 },
 "nbformat": 4,
 "nbformat_minor": 5
}
